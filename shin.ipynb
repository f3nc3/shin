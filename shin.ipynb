{
  "nbformat": 4,
  "nbformat_minor": 0,
  "metadata": {
    "colab": {
      "provenance": []
    },
    "kernelspec": {
      "name": "python3",
      "display_name": "Python 3"
    },
    "language_info": {
      "name": "python"
    }
  },
  "cells": [
    {
      "cell_type": "code",
      "execution_count": 3,
      "metadata": {
        "colab": {
          "base_uri": "https://localhost:8080/"
        },
        "id": "M7ItEIzd2EpH",
        "outputId": "bc8b2ae8-c2d4-4546-ac29-90bc0c76cb5d"
      },
      "outputs": [
        {
          "output_type": "stream",
          "name": "stdout",
          "text": [
            "Shingle 1: ['Da', 'ar', 'rs', 'sh', 'ha', 'an']\n",
            "Shingle 2: ['Do', 'od', 'dv', 've']\n",
            "All shingles: ['an', 'Da', 've', 'od', 'rs', 'sh', 'ar', 'dv', 'Do', 'ha']\n",
            "Number of unique shingles: 10\n",
            "  Shingle  doc1  doc2  Hash1  Hash2\n",
            "0      an     1     0      5      3\n",
            "1      Da     1     0      2      4\n",
            "2      ve     0     1      9      5\n",
            "3      od     0     1      6      6\n",
            "4      rs     1     0      3      7\n",
            "5      sh     1     0      0      8\n",
            "6      ar     1     0      7      9\n",
            "7      dv     0     1      4      0\n",
            "8      Do     0     1      1      1\n",
            "9      ha     1     0      8      2\n"
          ]
        }
      ],
      "source": [
        "import pandas as pd\n",
        "import numpy as np\n",
        "import random\n",
        "\n",
        "def shinglewithoutsepr(text, k):\n",
        "\n",
        "    shingles = []\n",
        "    for i in range(len(text) - k + 1):\n",
        "        shingle = text[i:i + k]\n",
        "        shingles.append(shingle)\n",
        "    return shingles\n",
        "\n",
        "# Read the content of the two text files\n",
        "with open(\"1.txt\", \"r\") as file:\n",
        "    doc1 = file.read()\n",
        "\n",
        "with open(\"2.txt\", \"r\") as file:\n",
        "    doc2 = file.read()\n",
        "\n",
        "kval = 2\n",
        "shingle1 = shinglewithoutsepr(doc1, kval)\n",
        "shingle2 = shinglewithoutsepr(doc2, kval)\n",
        "all_shingles = list(set(shingle1 + shingle2))\n",
        "\n",
        "print(\"Shingle 1:\", shingle1)\n",
        "print(\"Shingle 2:\", shingle2)\n",
        "print(\"All shingles:\", all_shingles)\n",
        "\n",
        "df = pd.DataFrame(columns=[\"Shingle\", \"doc1\", \"doc2\"])\n",
        "df[\"Shingle\"] = all_shingles\n",
        "df.fillna(0, inplace=True)\n",
        "\n",
        "for i in range(len(shingle1)):\n",
        "    df.loc[df[\"Shingle\"] == shingle1[i], \"doc1\"] = 1\n",
        "\n",
        "for i in range(len(shingle2)):\n",
        "    df.loc[df[\"Shingle\"] == shingle2[i], \"doc2\"] = 1\n",
        "\n",
        "# Calculate hash values\n",
        "df[\"Hash1\"] = df.index.map(lambda x: (17 * int(x) + 5) % len(df))\n",
        "df[\"Hash2\"] = df.index.map(lambda x: (11 * int(x) + 3) % len(df))\n",
        "\n",
        "print(\"Number of unique shingles:\", len(df))\n",
        "print(df)"
      ]
    },
    {
      "cell_type": "code",
      "source": [],
      "metadata": {
        "id": "KsrWd2F7QZsd"
      },
      "execution_count": 2,
      "outputs": []
    },
    {
      "cell_type": "code",
      "source": [],
      "metadata": {
        "id": "A9A-NBzEQfMQ"
      },
      "execution_count": null,
      "outputs": []
    }
  ]
}